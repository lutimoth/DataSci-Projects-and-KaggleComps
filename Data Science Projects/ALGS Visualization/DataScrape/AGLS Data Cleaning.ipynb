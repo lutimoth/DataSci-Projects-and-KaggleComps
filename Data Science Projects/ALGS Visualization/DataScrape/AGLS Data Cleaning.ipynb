{
 "cells": [
  {
   "cell_type": "markdown",
   "id": "ae1a3b4c",
   "metadata": {},
   "source": [
    "Data is hard to visualize in Tableau given its organization.\n",
    "\n",
    "Will try to do a few things:\n",
    "1. Combine multiple lobbies into one long form\n",
    "2. Combine multiple rounds into one round\n",
    "3. Potentially combine multiple competitions into one\n",
    "\n",
    "For now, we will start going step by step and then figuring out how to do the others."
   ]
  },
  {
   "cell_type": "markdown",
   "id": "20d80271",
   "metadata": {},
   "source": [
    "# Preseason Qual Clean-up\n",
    "\n",
    "We will clean up the preseason qualifiers\n",
    "\n",
    "Right now we have the following file structure:\n",
    "\n",
    "Region/Preseason_Qualifier/"
   ]
  }
 ],
 "metadata": {
  "kernelspec": {
   "display_name": "Python 3 (ipykernel)",
   "language": "python",
   "name": "python3"
  },
  "language_info": {
   "codemirror_mode": {
    "name": "ipython",
    "version": 3
   },
   "file_extension": ".py",
   "mimetype": "text/x-python",
   "name": "python",
   "nbconvert_exporter": "python",
   "pygments_lexer": "ipython3",
   "version": "3.9.7"
  }
 },
 "nbformat": 4,
 "nbformat_minor": 5
}
