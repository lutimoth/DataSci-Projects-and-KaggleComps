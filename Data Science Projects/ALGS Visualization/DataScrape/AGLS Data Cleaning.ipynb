{
 "cells": [
  {
   "cell_type": "markdown",
   "id": "0073d001",
   "metadata": {},
   "source": [
    "Data is hard to visualize in Tableau given its organization.\n",
    "\n",
    "Will try to do a few things:\n",
    "1. Combine multiple lobbies into one long form\n",
    "2. Combine multiple rounds into one round\n",
    "3. Potentially combine multiple competitions into one\n",
    "\n",
    "For now, we will start going step by step and then figuring out how to do the others."
   ]
  },
  {
   "cell_type": "markdown",
   "id": "1b98a642",
   "metadata": {},
   "source": [
    "# Preseason Qual Clean-up\n",
    "\n",
    "We will clean up the preseason qualifiers\n",
    "\n",
    "Right now we have the following file structure:\n",
    "\n",
    "Region/Preseason_Qualifier_#/Round\n",
    "\n",
    "What we want to do is iteratively combine each folder of files starting with the round files.\n",
    "Then combine the rounds by each Preseason_Qualifier_# and then hopefully combine all those by region.\n",
    "\n",
    "We will start with the APAC_North region and then move our way down alphabetically."
   ]
  },
  {
   "cell_type": "markdown",
   "id": "c5bb5df4",
   "metadata": {},
   "source": [
    "## Data Structure\n",
    "\n",
    "First we have to understand how the data even looks when we load it into Python"
   ]
  },
  {
   "cell_type": "code",
   "execution_count": 1,
   "id": "e0f53015",
   "metadata": {},
   "outputs": [],
   "source": [
    "# These are the necessary packages so far\n",
    "import os\n",
    "import re\n",
    "import pandas as pd"
   ]
  },
  {
   "cell_type": "code",
   "execution_count": 8,
   "id": "7eda00f6",
   "metadata": {},
   "outputs": [
    {
     "data": {
      "text/html": [
       "<div>\n",
       "<style scoped>\n",
       "    .dataframe tbody tr th:only-of-type {\n",
       "        vertical-align: middle;\n",
       "    }\n",
       "\n",
       "    .dataframe tbody tr th {\n",
       "        vertical-align: top;\n",
       "    }\n",
       "\n",
       "    .dataframe thead th {\n",
       "        text-align: right;\n",
       "    }\n",
       "</style>\n",
       "<table border=\"1\" class=\"dataframe\">\n",
       "  <thead>\n",
       "    <tr style=\"text-align: right;\">\n",
       "      <th></th>\n",
       "      <th>Unnamed: 0</th>\n",
       "      <th>Standings</th>\n",
       "      <th>Standings.1</th>\n",
       "      <th>Standings.2</th>\n",
       "      <th>Standings.3</th>\n",
       "    </tr>\n",
       "  </thead>\n",
       "  <tbody>\n",
       "    <tr>\n",
       "      <th>0</th>\n",
       "      <td>NaN</td>\n",
       "      <td>Team</td>\n",
       "      <td>Team.1</td>\n",
       "      <td>Total</td>\n",
       "      <td>Round 1</td>\n",
       "    </tr>\n",
       "    <tr>\n",
       "      <th>1</th>\n",
       "      <td>0.0</td>\n",
       "      <td>1.0</td>\n",
       "      <td>FC Destroy</td>\n",
       "      <td>112</td>\n",
       "      <td>112</td>\n",
       "    </tr>\n",
       "    <tr>\n",
       "      <th>2</th>\n",
       "      <td>1.0</td>\n",
       "      <td>2.0</td>\n",
       "      <td>Dps</td>\n",
       "      <td>38</td>\n",
       "      <td>38</td>\n",
       "    </tr>\n",
       "    <tr>\n",
       "      <th>3</th>\n",
       "      <td>2.0</td>\n",
       "      <td>3.0</td>\n",
       "      <td>CJAM</td>\n",
       "      <td>32</td>\n",
       "      <td>32</td>\n",
       "    </tr>\n",
       "    <tr>\n",
       "      <th>4</th>\n",
       "      <td>3.0</td>\n",
       "      <td>4.0</td>\n",
       "      <td>sspZ</td>\n",
       "      <td>31</td>\n",
       "      <td>31</td>\n",
       "    </tr>\n",
       "  </tbody>\n",
       "</table>\n",
       "</div>"
      ],
      "text/plain": [
       "   Unnamed: 0 Standings Standings.1 Standings.2 Standings.3\n",
       "0         NaN      Team      Team.1       Total     Round 1\n",
       "1         0.0       1.0  FC Destroy         112         112\n",
       "2         1.0       2.0         Dps          38          38\n",
       "3         2.0       3.0        CJAM          32          32\n",
       "4         3.0       4.0        sspZ          31          31"
      ]
     },
     "execution_count": 8,
     "metadata": {},
     "output_type": "execute_result"
    }
   ],
   "source": [
    "# Start with the main directory\n",
    "directory = '../Outputs/APAC_North/Preseason_Qualifier_1/Round_1'\n",
    "\n",
    "df = pd.read_csv(f\"{directory}/Lobby 1.csv\")\n",
    "df.head()"
   ]
  },
  {
   "cell_type": "markdown",
   "id": "6f66930f",
   "metadata": {},
   "source": [
    "Few things to note:\n",
    "1. first column seems to be a repeat of standings. we can drop that.\n",
    "2. total and round 1 are duplicate we can drop that\n",
    "3. we can get rid of the current column header and replace it with the existing row 1\n",
    "\n",
    "Lets start by cleaning that up"
   ]
  },
  {
   "cell_type": "code",
   "execution_count": 9,
   "id": "20621544",
   "metadata": {},
   "outputs": [
    {
     "data": {
      "text/html": [
       "<div>\n",
       "<style scoped>\n",
       "    .dataframe tbody tr th:only-of-type {\n",
       "        vertical-align: middle;\n",
       "    }\n",
       "\n",
       "    .dataframe tbody tr th {\n",
       "        vertical-align: top;\n",
       "    }\n",
       "\n",
       "    .dataframe thead th {\n",
       "        text-align: right;\n",
       "    }\n",
       "</style>\n",
       "<table border=\"1\" class=\"dataframe\">\n",
       "  <thead>\n",
       "    <tr style=\"text-align: right;\">\n",
       "      <th></th>\n",
       "      <th>Standings</th>\n",
       "      <th>Standings.1</th>\n",
       "      <th>Standings.2</th>\n",
       "    </tr>\n",
       "  </thead>\n",
       "  <tbody>\n",
       "    <tr>\n",
       "      <th>0</th>\n",
       "      <td>Team</td>\n",
       "      <td>Team.1</td>\n",
       "      <td>Total</td>\n",
       "    </tr>\n",
       "    <tr>\n",
       "      <th>1</th>\n",
       "      <td>1.0</td>\n",
       "      <td>FC Destroy</td>\n",
       "      <td>112</td>\n",
       "    </tr>\n",
       "    <tr>\n",
       "      <th>2</th>\n",
       "      <td>2.0</td>\n",
       "      <td>Dps</td>\n",
       "      <td>38</td>\n",
       "    </tr>\n",
       "    <tr>\n",
       "      <th>3</th>\n",
       "      <td>3.0</td>\n",
       "      <td>CJAM</td>\n",
       "      <td>32</td>\n",
       "    </tr>\n",
       "    <tr>\n",
       "      <th>4</th>\n",
       "      <td>4.0</td>\n",
       "      <td>sspZ</td>\n",
       "      <td>31</td>\n",
       "    </tr>\n",
       "  </tbody>\n",
       "</table>\n",
       "</div>"
      ],
      "text/plain": [
       "  Standings Standings.1 Standings.2\n",
       "0      Team      Team.1       Total\n",
       "1       1.0  FC Destroy         112\n",
       "2       2.0         Dps          38\n",
       "3       3.0        CJAM          32\n",
       "4       4.0        sspZ          31"
      ]
     },
     "execution_count": 9,
     "metadata": {},
     "output_type": "execute_result"
    }
   ],
   "source": [
    "# drop unnecessary columns\n",
    "\n",
    "df = df.drop(df.columns[[0,-1]],axis=1)"
   ]
  },
  {
   "cell_type": "code",
   "execution_count": 10,
   "id": "644c8e6a",
   "metadata": {},
   "outputs": [
    {
     "data": {
      "text/html": [
       "<div>\n",
       "<style scoped>\n",
       "    .dataframe tbody tr th:only-of-type {\n",
       "        vertical-align: middle;\n",
       "    }\n",
       "\n",
       "    .dataframe tbody tr th {\n",
       "        vertical-align: top;\n",
       "    }\n",
       "\n",
       "    .dataframe thead th {\n",
       "        text-align: right;\n",
       "    }\n",
       "</style>\n",
       "<table border=\"1\" class=\"dataframe\">\n",
       "  <thead>\n",
       "    <tr style=\"text-align: right;\">\n",
       "      <th></th>\n",
       "      <th>Standings</th>\n",
       "      <th>Standings.1</th>\n",
       "      <th>Standings.2</th>\n",
       "    </tr>\n",
       "  </thead>\n",
       "  <tbody>\n",
       "    <tr>\n",
       "      <th>0</th>\n",
       "      <td>Team</td>\n",
       "      <td>Team.1</td>\n",
       "      <td>Total</td>\n",
       "    </tr>\n",
       "    <tr>\n",
       "      <th>1</th>\n",
       "      <td>1.0</td>\n",
       "      <td>FC Destroy</td>\n",
       "      <td>112</td>\n",
       "    </tr>\n",
       "    <tr>\n",
       "      <th>2</th>\n",
       "      <td>2.0</td>\n",
       "      <td>Dps</td>\n",
       "      <td>38</td>\n",
       "    </tr>\n",
       "    <tr>\n",
       "      <th>3</th>\n",
       "      <td>3.0</td>\n",
       "      <td>CJAM</td>\n",
       "      <td>32</td>\n",
       "    </tr>\n",
       "    <tr>\n",
       "      <th>4</th>\n",
       "      <td>4.0</td>\n",
       "      <td>sspZ</td>\n",
       "      <td>31</td>\n",
       "    </tr>\n",
       "  </tbody>\n",
       "</table>\n",
       "</div>"
      ],
      "text/plain": [
       "  Standings Standings.1 Standings.2\n",
       "0      Team      Team.1       Total\n",
       "1       1.0  FC Destroy         112\n",
       "2       2.0         Dps          38\n",
       "3       3.0        CJAM          32\n",
       "4       4.0        sspZ          31"
      ]
     },
     "execution_count": 10,
     "metadata": {},
     "output_type": "execute_result"
    }
   ],
   "source": [
    "df.head()"
   ]
  }
 ],
 "metadata": {
  "kernelspec": {
   "display_name": "Python 3 (ipykernel)",
   "language": "python",
   "name": "python3"
  },
  "language_info": {
   "codemirror_mode": {
    "name": "ipython",
    "version": 3
   },
   "file_extension": ".py",
   "mimetype": "text/x-python",
   "name": "python",
   "nbconvert_exporter": "python",
   "pygments_lexer": "ipython3",
   "version": "3.9.7"
  }
 },
 "nbformat": 4,
 "nbformat_minor": 5
}
