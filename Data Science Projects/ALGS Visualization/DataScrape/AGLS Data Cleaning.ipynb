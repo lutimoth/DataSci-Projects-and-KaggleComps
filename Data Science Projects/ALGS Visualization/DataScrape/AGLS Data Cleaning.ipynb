{
 "cells": [
  {
   "cell_type": "markdown",
   "id": "8725c9ea",
   "metadata": {},
   "source": [
    "Data is hard to visualize in Tableau given its organization.\n",
    "\n",
    "Will try to do a few things:\n",
    "1. Combine multiple lobbies into one long form\n",
    "2. Combine multiple rounds into one round\n",
    "3. Potentially combine multiple competitions into one\n",
    "\n",
    "For now, we will start going step by step and then figuring out how to do the others."
   ]
  },
  {
   "cell_type": "markdown",
   "id": "6a378b07",
   "metadata": {},
   "source": [
    "# Preseason Qual Clean-up\n",
    "\n",
    "We will clean up the preseason qualifiers\n",
    "\n",
    "Right now we have the following file structure:\n",
    "\n",
    "Region/Preseason_Qualifier_#/Round\n",
    "\n",
    "What we want to do is iteratively combine each folder of files starting with the round files.\n",
    "Then combine the rounds by each Preseason_Qualifier_# and then hopefully combine all those by region.\n",
    "\n",
    "We will start with the APAC_North region and then move our way down alphabetically."
   ]
  },
  {
   "cell_type": "markdown",
   "id": "b3fceba0",
   "metadata": {},
   "source": [
    "## Data Structure\n",
    "\n",
    "First we have to understand how the data even looks when we load it into Python"
   ]
  },
  {
   "cell_type": "code",
   "execution_count": 1,
   "id": "0607d313",
   "metadata": {},
   "outputs": [],
   "source": [
    "# These are the necessary packages so far\n",
    "import os\n",
    "import re\n",
    "import pandas as pd"
   ]
  }
 ],
 "metadata": {
  "kernelspec": {
   "display_name": "Python 3 (ipykernel)",
   "language": "python",
   "name": "python3"
  },
  "language_info": {
   "codemirror_mode": {
    "name": "ipython",
    "version": 3
   },
   "file_extension": ".py",
   "mimetype": "text/x-python",
   "name": "python",
   "nbconvert_exporter": "python",
   "pygments_lexer": "ipython3",
   "version": "3.9.7"
  }
 },
 "nbformat": 4,
 "nbformat_minor": 5
}
