{
 "cells": [
  {
   "cell_type": "markdown",
   "id": "869627f4",
   "metadata": {},
   "source": [
    "# ALGS Data Scraping\n",
    "\n",
    "This notebook will be used for scraping data from https://liquipedia.net/apexlegends/Apex_Legends_Global_Series/2021-22 for their m"
   ]
  },
  {
   "cell_type": "code",
   "execution_count": 3,
   "id": "4d0a211f",
   "metadata": {},
   "outputs": [],
   "source": [
    "import requests\n",
    "from bs4 import BeautifulSoup"
   ]
  },
  {
   "cell_type": "markdown",
   "id": "1c1c3515",
   "metadata": {},
   "source": [
    "To make the process a bit more straightforward, we will be creating lists to iterate over. We might not use some of these lists but it will help us at least keep organization straightforward. \n",
    "\n",
    "The lists will include for all data:\n",
    "- Region\n",
    "- Round Number (set of games)\n",
    "- Game Number (refered to as round in table)\n",
    "\n",
    "For preseason:\n",
    "- Qualifier Round (for preseason qualifiers)\n",
    "- Lobby number \n",
    "\n",
    "For splits:\n",
    "- Circuit Round (for challenger circuit)\n",
    "- Rounds (set of games) for pro league\n",
    "- Game number (refered to as round in table)\n",
    "- Playoffs games\n",
    "\n",
    "For championship:\n",
    "- LCQs\n",
    "- Winners Bracket, Losers Bracket, Finals\n",
    "- Round number\n",
    "\n",
    "For the games with group stages:\n",
    "- Groups A, B, C, D\n",
    "<hr>"
   ]
  },
  {
   "cell_type": "markdown",
   "id": "ffdc97ef",
   "metadata": {},
   "source": [
    "We will go in the following order for our data scraping:\n",
    "\n",
    "- Preseason\n",
    "- Split 1\n",
    "- Split 2\n",
    "- Championships"
   ]
  },
  {
   "cell_type": "code",
   "execution_count": null,
   "id": "8217c5f3",
   "metadata": {},
   "outputs": [],
   "source": []
  }
 ],
 "metadata": {
  "kernelspec": {
   "display_name": "Python 3 (ipykernel)",
   "language": "python",
   "name": "python3"
  },
  "language_info": {
   "codemirror_mode": {
    "name": "ipython",
    "version": 3
   },
   "file_extension": ".py",
   "mimetype": "text/x-python",
   "name": "python",
   "nbconvert_exporter": "python",
   "pygments_lexer": "ipython3",
   "version": "3.9.7"
  }
 },
 "nbformat": 4,
 "nbformat_minor": 5
}
